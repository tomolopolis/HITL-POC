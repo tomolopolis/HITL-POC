{
 "cells": [
  {
   "cell_type": "markdown",
   "metadata": {},
   "source": [
    "# HITL-POC API Examples\n",
    "\n",
    "This notebook demonstrates how to use the HITL-POC API endpoints to:\n",
    "1. Create and manage annotation projects\n",
    "2. Add annotation items to projects\n",
    "3. Download completed annotations\n",
    "\n",
    "## Setup\n",
    "\n",
    "First, let's install the required packages:"
   ]
  },
  {
   "cell_type": "code",
   "execution_count": 1,
   "metadata": {},
   "outputs": [
    {
     "name": "stdout",
     "output_type": "stream",
     "text": [
      "Requirement already satisfied: requests in /Users/k1897038/miniconda3/lib/python3.12/site-packages (2.32.3)\n",
      "Requirement already satisfied: pandas in /Users/k1897038/miniconda3/lib/python3.12/site-packages (2.2.3)\n",
      "Requirement already satisfied: charset-normalizer<4,>=2 in /Users/k1897038/miniconda3/lib/python3.12/site-packages (from requests) (3.3.2)\n",
      "Requirement already satisfied: idna<4,>=2.5 in /Users/k1897038/miniconda3/lib/python3.12/site-packages (from requests) (3.7)\n",
      "Requirement already satisfied: urllib3<3,>=1.21.1 in /Users/k1897038/miniconda3/lib/python3.12/site-packages (from requests) (2.3.0)\n",
      "Requirement already satisfied: certifi>=2017.4.17 in /Users/k1897038/miniconda3/lib/python3.12/site-packages (from requests) (2025.1.31)\n",
      "Requirement already satisfied: numpy>=1.26.0 in /Users/k1897038/miniconda3/lib/python3.12/site-packages (from pandas) (1.26.4)\n",
      "Requirement already satisfied: python-dateutil>=2.8.2 in /Users/k1897038/miniconda3/lib/python3.12/site-packages (from pandas) (2.9.0.post0)\n",
      "Requirement already satisfied: pytz>=2020.1 in /Users/k1897038/miniconda3/lib/python3.12/site-packages (from pandas) (2025.2)\n",
      "Requirement already satisfied: tzdata>=2022.7 in /Users/k1897038/miniconda3/lib/python3.12/site-packages (from pandas) (2025.2)\n",
      "Requirement already satisfied: six>=1.5 in /Users/k1897038/miniconda3/lib/python3.12/site-packages (from python-dateutil>=2.8.2->pandas) (1.16.0)\n"
     ]
    }
   ],
   "source": [
    "!pip install requests pandas"
   ]
  },
  {
   "cell_type": "code",
   "execution_count": 4,
   "metadata": {},
   "outputs": [],
   "source": [
    "import requests\n",
    "import pandas as pd\n",
    "from datetime import datetime\n",
    "\n",
    "# API base URL - update this according to your deployment\n",
    "BASE_URL = \"http://localhost:8001/api\""
   ]
  },
  {
   "cell_type": "markdown",
   "metadata": {},
   "source": [
    "## 1. Project Management\n",
    "\n",
    "### Create a new project"
   ]
  },
  {
   "cell_type": "code",
   "execution_count": 5,
   "metadata": {},
   "outputs": [
    {
     "name": "stdout",
     "output_type": "stream",
     "text": [
      "Created project: {'id': 2, 'name': 'Example Project', 'description': 'A project for demonstrating API usage', 'created_at': '2025-04-23T15:31:07.551280Z', 'items': [], 'item_count': 0}\n"
     ]
    }
   ],
   "source": [
    "def create_project(name, description):\n",
    "    url = f\"{BASE_URL}/projects/\"\n",
    "    data = {\n",
    "        \"name\": name,\n",
    "        \"description\": description\n",
    "    }\n",
    "    response = requests.post(url, json=data)\n",
    "    return response.json()\n",
    "\n",
    "# Example: Create a new project\n",
    "project = create_project(\n",
    "    name=\"Example Project\",\n",
    "    description=\"A project for demonstrating API usage\"\n",
    ")\n",
    "print(f\"Created project: {project}\")"
   ]
  },
  {
   "cell_type": "markdown",
   "metadata": {},
   "source": [
    "### List all projects"
   ]
  },
  {
   "cell_type": "code",
   "execution_count": 6,
   "metadata": {},
   "outputs": [
    {
     "name": "stdout",
     "output_type": "stream",
     "text": [
      "Available projects:\n",
      "- Example Project (ID: 2)\n",
      "- Example Project (ID: 1)\n"
     ]
    }
   ],
   "source": [
    "def list_projects():\n",
    "    url = f\"{BASE_URL}/projects/\"\n",
    "    response = requests.get(url)\n",
    "    return response.json()\n",
    "\n",
    "# Get all projects\n",
    "projects = list_projects()\n",
    "print(\"Available projects:\")\n",
    "for project in projects:\n",
    "    print(f\"- {project['name']} (ID: {project['id']})\")"
   ]
  },
  {
   "cell_type": "code",
   "execution_count": null,
   "metadata": {},
   "outputs": [],
   "source": []
  },
  {
   "cell_type": "markdown",
   "metadata": {},
   "source": [
    "### Get project statistics"
   ]
  },
  {
   "cell_type": "code",
   "execution_count": 7,
   "metadata": {},
   "outputs": [
    {
     "name": "stdout",
     "output_type": "stream",
     "text": [
      "Project statistics:\n",
      "- Total items: 0\n",
      "- Labeled items: 0\n",
      "- Unlabeled items: 0\n"
     ]
    }
   ],
   "source": [
    "def get_project_stats(project_id):\n",
    "    url = f\"{BASE_URL}/projects/{project_id}/stats/\"\n",
    "    response = requests.get(url)\n",
    "    return response.json()\n",
    "\n",
    "# Get stats for the first project\n",
    "if projects:\n",
    "    project_id = projects[0]['id']\n",
    "    stats = get_project_stats(project_id)\n",
    "    print(f\"Project statistics:\")\n",
    "    print(f\"- Total items: {stats['total_items']}\")\n",
    "    print(f\"- Labeled items: {stats['labeled_items']}\")\n",
    "    print(f\"- Unlabeled items: {stats['unlabeled_items']}\")"
   ]
  },
  {
   "cell_type": "markdown",
   "metadata": {},
   "source": [
    "## 2. Annotation Items\n",
    "\n",
    "### Add annotation items to a project"
   ]
  },
  {
   "cell_type": "code",
   "execution_count": null,
   "metadata": {},
   "outputs": [
    {
     "name": "stdout",
     "output_type": "stream",
     "text": [
      "Added item: 1\n",
      "Added item: 2\n",
      "Added item: 3\n"
     ]
    }
   ],
   "source": [
    "def add_annotation_item(project_id: int, text: str, label: str):\n",
    "    url = f\"{BASE_URL}/items/\"\n",
    "    data = {\n",
    "        \"project\": project_id,\n",
    "        \"text\": text,\n",
    "        \"label\": label\n",
    "    }\n",
    "    response = requests.post(url, json=data)\n",
    "    return response.json()\n",
    "\n",
    "# Example: Add some items to the project\n",
    "if projects:\n",
    "    project_id = projects[0]['id']\n",
    "    items = [\n",
    "        \"This is the first item to annotate\",\n",
    "        \"This is the second item to annotate\",\n",
    "        \"This is the third item to annotate\"\n",
    "    ]\n",
    "    labels = [\n",
    "        \"Foo\",\n",
    "        \"Bar\",\n",
    "        \"Baz\"\n",
    "    ]\n",
    "    for item, label in zip(items, labels):\n",
    "        result = add_annotation_item(project_id, item, label)\n",
    "        print(f\"Added item: {result['id']}\")"
   ]
  },
  {
   "cell_type": "markdown",
   "metadata": {},
   "source": [
    "### List items in a project"
   ]
  },
  {
   "cell_type": "code",
   "execution_count": 14,
   "metadata": {},
   "outputs": [
    {
     "name": "stdout",
     "output_type": "stream",
     "text": [
      "Project items:\n",
      "- ID: 1, Text: This is the first item to annotate, Label: Foo\n",
      "- ID: 2, Text: This is the second item to annotate, Label: Bar\n",
      "- ID: 3, Text: This is the third item to annotate, Label: Baz\n"
     ]
    }
   ],
   "source": [
    "def list_project_items(project_id):\n",
    "    url = f\"{BASE_URL}/items/?project={project_id}\"\n",
    "    response = requests.get(url)\n",
    "    return response.json()\n",
    "\n",
    "# Get all items for the project\n",
    "if projects:\n",
    "    project_id = projects[0]['id']\n",
    "    items = list_project_items(project_id)\n",
    "    print(f\"Project items:\")\n",
    "    for item in items:\n",
    "        print(f\"- ID: {item['id']}, Text: {item['text']}, Label: {item['label']}\")"
   ]
  },
  {
   "cell_type": "markdown",
   "metadata": {},
   "source": [
    "## 3. Download Annotations\n",
    "\n",
    "### Get completed annotations"
   ]
  },
  {
   "cell_type": "code",
   "execution_count": null,
   "metadata": {},
   "outputs": [],
   "source": [
    "def get_completed_annotations(project_id):\n",
    "    url = f\"{BASE_URL}/projects/{project_id}/completed_annotations/\"\n",
    "    response = requests.get(url)\n",
    "    return response.json()\n",
    "\n",
    "# Get completed annotations for the project\n",
    "if projects:\n",
    "    project_id = projects[0]['id']\n",
    "    completed = get_completed_annotations(project_id)\n",
    "    \n",
    "    # Convert to DataFrame for better visualization\n",
    "    if completed:\n",
    "        df = pd.DataFrame(completed)\n",
    "        print(\"Completed annotations:\")\n",
    "        display(df)\n",
    "    else:\n",
    "        print(\"No completed annotations yet.\")"
   ]
  },
  {
   "cell_type": "markdown",
   "metadata": {},
   "source": [
    "### Export annotations to CSV"
   ]
  },
  {
   "cell_type": "code",
   "execution_count": null,
   "metadata": {},
   "outputs": [],
   "source": [
    "def export_annotations_to_csv(project_id, filename=None):\n",
    "    if filename is None:\n",
    "        filename = f\"annotations_{project_id}_{datetime.now().strftime('%Y%m%d_%H%M%S')}.csv\"\n",
    "    \n",
    "    completed = get_completed_annotations(project_id)\n",
    "    if completed:\n",
    "        df = pd.DataFrame(completed)\n",
    "        df.to_csv(filename, index=False)\n",
    "        print(f\"Annotations exported to {filename}\")\n",
    "    else:\n",
    "        print(\"No annotations to export.\")\n",
    "\n",
    "# Export annotations for the project\n",
    "if projects:\n",
    "    project_id = projects[0]['id']\n",
    "    export_annotations_to_csv(project_id)"
   ]
  }
 ],
 "metadata": {
  "kernelspec": {
   "display_name": "Python [conda env:base] *",
   "language": "python",
   "name": "conda-base-py"
  },
  "language_info": {
   "codemirror_mode": {
    "name": "ipython",
    "version": 3
   },
   "file_extension": ".py",
   "mimetype": "text/x-python",
   "name": "python",
   "nbconvert_exporter": "python",
   "pygments_lexer": "ipython3",
   "version": "3.12.9"
  }
 },
 "nbformat": 4,
 "nbformat_minor": 4
}
